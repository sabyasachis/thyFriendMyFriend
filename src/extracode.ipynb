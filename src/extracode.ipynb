{
 "cells": [
  {
   "cell_type": "markdown",
   "metadata": {},
   "source": [
    "# Substitute functions\n",
    "This notebook contains some extra functions which were created during development phase. These functions are no longer being used nor supported.<br>\n",
    "These functions can be used in testscripts instead of some other functions which are implementation of THE algorithm.\n"
   ]
  },
  {
   "cell_type": "code",
   "execution_count": null,
   "metadata": {
    "collapsed": true
   },
   "outputs": [],
   "source": [
    "# Built and tested on python2\n",
    "import numpy as np\n",
    "from tqdm import *\n",
    "import sys"
   ]
  },
  {
   "cell_type": "markdown",
   "metadata": {},
   "source": [
    "Generate pearson similarity"
   ]
  },
  {
   "cell_type": "code",
   "execution_count": null,
   "metadata": {
    "collapsed": true
   },
   "outputs": [],
   "source": [
    "from scipy import stats\n",
    "\n",
    "def generate_user_sim_matrix(data_csr, m1_csr, product_matrix):\n",
    "    # making all unobserved entries in product_matrix as zero\n",
    "    # makes it simpler for pearson similarity calculation, probably..\n",
    "    product_matrix = find_and_replace(data=product_matrix, find_value=UNOBSERVED, replace_value=0)\n",
    "    user_list = np.array(list(set(data_csr[:,0])))\n",
    "    item_list = np.array(list(set(data_csr[:,1])))\n",
    "\n",
    "    # Currently using simple pearson similarity:\n",
    "    user_sim_matrix = np.full((len(user_list), len(user_list)), UNOBSERVED, dtype=float)\n",
    "    print('Generating user sim matrix (pearson similarity):')\n",
    "    sys.stdout.flush()\n",
    "    for user1 in tqdm(user_list):\n",
    "        for user2 in user_list:\n",
    "            if user1 >= user2:\n",
    "                [sim, p_value] = stats.pearsonr(product_matrix[user1], product_matrix[user2])\n",
    "                if np.isnan(sim):                       # TODO: check if this is valid to do?\n",
    "                    sim = 0\n",
    "                user_sim_matrix[user1,user2] = user_sim_matrix[user2,user1] = sim\n",
    "                # similarity is between -1 and 1\n",
    "                # therefore, these can be directly used as weights on users' rating for prediction\n",
    "    return user_sim_matrix"
   ]
  },
  {
   "cell_type": "code",
   "execution_count": null,
   "metadata": {
    "collapsed": true
   },
   "outputs": [],
   "source": []
  },
  {
   "cell_type": "code",
   "execution_count": null,
   "metadata": {
    "collapsed": true
   },
   "outputs": [],
   "source": []
  }
 ],
 "metadata": {
  "kernelspec": {
   "display_name": "Python 2",
   "language": "python",
   "name": "python2"
  },
  "language_info": {
   "codemirror_mode": {
    "name": "ipython",
    "version": 2
   },
   "file_extension": ".py",
   "mimetype": "text/x-python",
   "name": "python",
   "nbconvert_exporter": "python",
   "pygments_lexer": "ipython2",
   "version": "2.7.14"
  }
 },
 "nbformat": 4,
 "nbformat_minor": 2
}
