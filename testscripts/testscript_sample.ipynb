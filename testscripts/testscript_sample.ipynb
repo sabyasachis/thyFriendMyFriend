{
 "cells": [
  {
   "cell_type": "markdown",
   "metadata": {},
   "source": [
    "# Test script\n",
    "This is a sample test script to run on very_small_graph.txt dataset. This script is created to help you better understand how exactly the functions operate."
   ]
  },
  {
   "cell_type": "markdown",
   "metadata": {},
   "source": [
    "Running the main Jupyter notebook which has all the functions defined. Make sure the path is correct in next cell"
   ]
  },
  {
   "cell_type": "code",
   "execution_count": 1,
   "metadata": {},
   "outputs": [
    {
     "data": {
      "text/plain": [
       "datetime.time(18, 43, 0, 274879)"
      ]
     },
     "execution_count": 1,
     "metadata": {},
     "output_type": "execute_result"
    }
   ],
   "source": [
    "from datetime import datetime\n",
    "datetime.now().time()     # (hour, min, sec, microsec)"
   ]
  },
  {
   "cell_type": "code",
   "execution_count": 2,
   "metadata": {
    "collapsed": true
   },
   "outputs": [],
   "source": [
    "# if this way of importing another jupyter notebook fails for you\n",
    "# then you can use any one of the many methods described here:\n",
    "# https://stackoverflow.com/questions/20186344/ipynb-import-another-ipynb-file\n",
    "%run '../src/finalcode.ipynb'"
   ]
  },
  {
   "cell_type": "code",
   "execution_count": 3,
   "metadata": {},
   "outputs": [
    {
     "data": {
      "text/plain": [
       "datetime.time(18, 43, 3, 434831)"
      ]
     },
     "execution_count": 3,
     "metadata": {},
     "output_type": "execute_result"
    }
   ],
   "source": [
    "datetime.now().time()     # (hour, min, sec, microsec)"
   ]
  },
  {
   "cell_type": "markdown",
   "metadata": {},
   "source": [
    "### Setting constants"
   ]
  },
  {
   "cell_type": "code",
   "execution_count": 4,
   "metadata": {
    "collapsed": true
   },
   "outputs": [],
   "source": [
    "FIRST_INDEX = -1\n",
    "USERS = -1\n",
    "ITEMS = -1\n",
    "SPARSITY = -1                  # 'p' in the equations\n",
    "UNOBSERVED = 0                 # default value in matrix for unobserved ratings\n",
    "N_RATINGS = 7\n",
    "C1 = 0                         # only to account for scale_factor in step 3\n",
    "C2 = 1                         # only to account for scale_factor in step 3\n",
    "\n",
    "RADIUS = 3                              # radius of neighborhood, radius = # edges between start and end vertex\n",
    "UNPRED_RATING = -1                      # rating (normalized) for which we dont have predicted rating"
   ]
  },
  {
   "cell_type": "code",
   "execution_count": null,
   "metadata": {
    "collapsed": true
   },
   "outputs": [],
   "source": []
  },
  {
   "cell_type": "markdown",
   "metadata": {},
   "source": [
    "### Read and prepare the dataset"
   ]
  },
  {
   "cell_type": "code",
   "execution_count": 5,
   "metadata": {},
   "outputs": [
    {
     "name": "stdout",
     "output_type": "stream",
     "text": [
      "USERS = 4\n",
      "ITEMS = 3\n",
      "All users and items have at least one rating! Good!\n",
      "SPARSITY (p) = 0.285714285714\n",
      "Sym matrix : p is polynomially larger than 1/n, all guarantees applicable\n",
      "Check and set dataset : done\n"
     ]
    }
   ],
   "source": [
    "m1_csr = read_data_csr(fname='../data/very_small_graph.txt', delimiter=\"\\t\")\n",
    "check_and_set_data_csr(data_csr=m1_csr)"
   ]
  },
  {
   "cell_type": "code",
   "execution_count": 6,
   "metadata": {},
   "outputs": [
    {
     "name": "stdout",
     "output_type": "stream",
     "text": [
      "Normalize ratings: done\n",
      "CSR to symmetric CSR matrix: done\n"
     ]
    }
   ],
   "source": [
    "m1_csr = normalize_ratings_csr(m1_csr)          ##### REMOVE THIS CELL\n",
    "m1_csr = csr_to_symmetric_csr(m1_csr)"
   ]
  },
  {
   "cell_type": "code",
   "execution_count": null,
   "metadata": {
    "collapsed": true
   },
   "outputs": [],
   "source": []
  },
  {
   "cell_type": "markdown",
   "metadata": {},
   "source": [
    "### Make predictions using THE algorithm "
   ]
  },
  {
   "cell_type": "markdown",
   "metadata": {},
   "source": [
    "##### Step 1: Sample splitting"
   ]
  },
  {
   "cell_type": "code",
   "execution_count": 7,
   "metadata": {
    "collapsed": true
   },
   "outputs": [],
   "source": [
    "# This step is  being skipped (not needed) for very_small_graph.txt dataset"
   ]
  },
  {
   "cell_type": "code",
   "execution_count": null,
   "metadata": {
    "collapsed": true
   },
   "outputs": [],
   "source": []
  },
  {
   "cell_type": "markdown",
   "metadata": {},
   "source": [
    "##### Step 2: Expanding the Neighborhood"
   ]
  },
  {
   "cell_type": "code",
   "execution_count": 8,
   "metadata": {},
   "outputs": [
    {
     "name": "stdout",
     "output_type": "stream",
     "text": [
      "Creating graph as dictionary:\n"
     ]
    },
    {
     "name": "stderr",
     "output_type": "stream",
     "text": [
      "100%|██████████| 7/7 [00:00<00:00, 18465.49it/s]"
     ]
    },
    {
     "name": "stdout",
     "output_type": "stream",
     "text": [
      "Generating neighbor boundary matrix at 3-hop distance:\n"
     ]
    },
    {
     "name": "stderr",
     "output_type": "stream",
     "text": [
      "\n",
      "100%|██████████| 7/7 [00:00<00:00, 12793.08it/s]"
     ]
    },
    {
     "name": "stdout",
     "output_type": "stream",
     "text": [
      "Generating neighbor boundary matrix at 4-hop distance:\n"
     ]
    },
    {
     "name": "stderr",
     "output_type": "stream",
     "text": [
      "\n",
      "100%|██████████| 7/7 [00:00<00:00, 7091.82it/s]\n"
     ]
    }
   ],
   "source": [
    "[r_neighbor_matrix, r1_neighbor_matrix] = generate_neighbor_boundary_matrix(m1_csr)\n",
    "# all neighbor boundary vector for each user u is stored as u'th row in neighbor_matrix\n",
    "# though here the vector is stored a row vector, we will treat it as column vector in Step 4\n",
    "# Note: we might expect neighbor matrix to be symmetric with dimensions (USERS+ITEMS)*(USERS+ITEMS)\n",
    "#     : since distance user-item and item-user should be same\n",
    "#     : but this is not the case since there might be multiple paths between user-item\n",
    "#     : and the random path picked for user-item and item-user may not be same\n",
    "#     : normalizing the matrix also will result to rise of difference"
   ]
  },
  {
   "cell_type": "code",
   "execution_count": 9,
   "metadata": {},
   "outputs": [
    {
     "name": "stdout",
     "output_type": "stream",
     "text": [
      "To effectively choose RADIUS value for next run of algorithm:\n",
      "Showing distribution of count of neighbors for every vertex:\n",
      "              0\n",
      "count  7.000000\n",
      "mean   1.428571\n",
      "std    0.534522\n",
      "min    1.000000\n",
      "25%    1.000000\n",
      "50%    1.000000\n",
      "75%    2.000000\n",
      "max    2.000000\n"
     ]
    }
   ],
   "source": [
    "describe_neighbor_count(r_neighbor_matrix)"
   ]
  },
  {
   "cell_type": "code",
   "execution_count": 10,
   "metadata": {},
   "outputs": [
    {
     "name": "stdout",
     "output_type": "stream",
     "text": [
      "To effectively choose RADIUS value for next run of algorithm:\n",
      "Showing distribution of count of neighbors for every vertex:\n",
      "              0\n",
      "count  7.000000\n",
      "mean   0.285714\n",
      "std    0.487950\n",
      "min    0.000000\n",
      "25%    0.000000\n",
      "50%    0.000000\n",
      "75%    0.500000\n",
      "max    1.000000\n"
     ]
    }
   ],
   "source": [
    "describe_neighbor_count(r1_neighbor_matrix)"
   ]
  },
  {
   "cell_type": "code",
   "execution_count": null,
   "metadata": {
    "collapsed": true
   },
   "outputs": [],
   "source": []
  },
  {
   "cell_type": "markdown",
   "metadata": {},
   "source": [
    "##### Step 3: Computing the distances"
   ]
  },
  {
   "cell_type": "code",
   "execution_count": 11,
   "metadata": {},
   "outputs": [
    {
     "name": "stdout",
     "output_type": "stream",
     "text": [
      "Generating distance matrix\n"
     ]
    },
    {
     "name": "stderr",
     "output_type": "stream",
     "text": [
      "100%|██████████| 7/7 [00:00<00:00, 2327.03it/s]\n"
     ]
    },
    {
     "data": {
      "text/plain": [
       "array([[ 0.       ,  0.07168  ,  0.       ,  0.14336  ,  0.       ,\n",
       "         0.       ,  0.       ],\n",
       "       [ 0.07168  ,  0.       ,  0.0086016,  0.243712 ,  0.100352 ,\n",
       "         0.100352 ,  0.100352 ],\n",
       "       [ 0.       ,  0.0086016,  0.       ,  0.14336  ,  0.       ,\n",
       "         0.       ,  0.       ],\n",
       "       [ 0.14336  ,  0.243712 ,  0.14336  ,  0.       ,  0.14336  ,\n",
       "         0.14336  ,  0.14336  ],\n",
       "       [ 0.       ,  0.100352 ,  0.       ,  0.14336  ,  0.       ,\n",
       "         0.       ,  0.       ],\n",
       "       [ 0.       ,  0.100352 ,  0.       ,  0.14336  ,  0.       ,\n",
       "         0.       ,  0.       ],\n",
       "       [ 0.       ,  0.100352 ,  0.       ,  0.14336  ,  0.       ,\n",
       "         0.       ,  0.       ]])"
      ]
     },
     "execution_count": 11,
     "metadata": {},
     "output_type": "execute_result"
    }
   ],
   "source": [
    "distance_matrix = compute_distance_matrix(r_neighbor_matrix, r1_neighbor_matrix, m1_csr)\n",
    "distance_matrix"
   ]
  },
  {
   "cell_type": "code",
   "execution_count": 12,
   "metadata": {},
   "outputs": [
    {
     "name": "stdout",
     "output_type": "stream",
     "text": [
      "To effectively choose THRESHOLD value in next step:\n",
      "Showing distribution of non zero (or observed) entries of distance matrix:\n",
      "               0\n",
      "count  22.000000\n",
      "mean    0.121986\n",
      "std     0.056814\n",
      "min     0.008602\n",
      "25%     0.100352\n",
      "50%     0.143360\n",
      "75%     0.143360\n",
      "max     0.243712\n"
     ]
    }
   ],
   "source": [
    "describe_distance_matrix(distance_matrix)"
   ]
  },
  {
   "cell_type": "code",
   "execution_count": null,
   "metadata": {
    "collapsed": true
   },
   "outputs": [],
   "source": []
  },
  {
   "cell_type": "markdown",
   "metadata": {},
   "source": [
    "##### Step 4: Averaging datapoints to produce final estimate"
   ]
  },
  {
   "cell_type": "code",
   "execution_count": 13,
   "metadata": {},
   "outputs": [
    {
     "name": "stdout",
     "output_type": "stream",
     "text": [
      "Generating distance similarity matrix:\n"
     ]
    },
    {
     "name": "stderr",
     "output_type": "stream",
     "text": [
      "100%|██████████| 7/7 [00:00<00:00, 4688.62it/s]\n"
     ]
    },
    {
     "data": {
      "text/plain": [
       "array([[False,  True, False,  True, False, False, False],\n",
       "       [ True, False,  True,  True,  True,  True,  True],\n",
       "       [False,  True, False,  True, False, False, False],\n",
       "       [ True,  True,  True, False,  True,  True,  True],\n",
       "       [False,  True, False,  True, False, False, False],\n",
       "       [False,  True, False,  True, False, False, False],\n",
       "       [False,  True, False,  True, False, False, False]], dtype=bool)"
      ]
     },
     "execution_count": 13,
     "metadata": {},
     "output_type": "execute_result"
    }
   ],
   "source": [
    "sim_matrix = generate_sim_matrix(distance_matrix, threshold=.26)\n",
    "sim_matrix"
   ]
  },
  {
   "cell_type": "code",
   "execution_count": 14,
   "metadata": {},
   "outputs": [
    {
     "name": "stdout",
     "output_type": "stream",
     "text": [
      "Generating prediction array:\n"
     ]
    },
    {
     "name": "stderr",
     "output_type": "stream",
     "text": [
      "100%|██████████| 7/7 [00:00<00:00, 7875.57it/s]\n"
     ]
    },
    {
     "data": {
      "text/plain": [
       "array([ 0.2       ,  0.2       ,  0.73333333,  0.2       ,  0.2       ,\n",
       "        0.73333333,  0.73333333])"
      ]
     },
     "execution_count": 14,
     "metadata": {},
     "output_type": "execute_result"
    }
   ],
   "source": [
    "prediction_array = generate_averaged_prediction_array(sim_matrix, m1_csr, m1_csr)\n",
    "prediction_array"
   ]
  },
  {
   "cell_type": "code",
   "execution_count": 15,
   "metadata": {},
   "outputs": [
    {
     "name": "stdout",
     "output_type": "stream",
     "text": [
      "Generating prediction matrix:\n"
     ]
    },
    {
     "name": "stderr",
     "output_type": "stream",
     "text": [
      "100%|██████████| 7/7 [00:00<00:00, 656.55it/s]\n"
     ]
    },
    {
     "data": {
      "text/plain": [
       "array([[ 0.2       ,  0.73333333,  0.2       ,  0.73333333,  0.2       ,\n",
       "         0.2       ,  0.2       ],\n",
       "       [ 0.73333333,  0.66666667,  0.73333333,  0.70909091,  0.73333333,\n",
       "         0.73333333,  0.73333333],\n",
       "       [ 0.2       ,  0.73333333,  0.2       ,  0.73333333,  0.2       ,\n",
       "         0.2       ,  0.2       ],\n",
       "       [ 0.73333333,  0.70909091,  0.73333333,  0.76      ,  0.73333333,\n",
       "         0.73333333,  0.73333333],\n",
       "       [ 0.2       ,  0.73333333,  0.2       ,  0.73333333,  0.2       ,\n",
       "         0.2       ,  0.2       ],\n",
       "       [ 0.2       ,  0.73333333,  0.2       ,  0.73333333,  0.2       ,\n",
       "         0.2       ,  0.2       ],\n",
       "       [ 0.2       ,  0.73333333,  0.2       ,  0.73333333,  0.2       ,\n",
       "         0.2       ,  0.2       ]])"
      ]
     },
     "execution_count": 15,
     "metadata": {},
     "output_type": "execute_result"
    }
   ],
   "source": [
    "prediction_matrix = generate_averaged_prediction_matrix(sim_matrix, m1_csr)\n",
    "prediction_matrix"
   ]
  },
  {
   "cell_type": "code",
   "execution_count": null,
   "metadata": {
    "collapsed": true
   },
   "outputs": [],
   "source": []
  },
  {
   "cell_type": "markdown",
   "metadata": {},
   "source": [
    "### Evaluate the predictions"
   ]
  },
  {
   "cell_type": "code",
   "execution_count": 16,
   "metadata": {
    "collapsed": true
   },
   "outputs": [],
   "source": [
    "# We have already prepared the test data (required for our algorithm)\n",
    "test_data_csr = m1_csr\n",
    "y_actual  = test_data_csr[:,2]\n",
    "y_predict = prediction_array\n",
    "# If we want, we could scale our ratings back to 1 - 5 range for evaluation purposes\n",
    "#But then paper makes no guarantees about scaled ratings\n",
    "#y_actual  = y_actual * 5\n",
    "#y_predict = y_actual * 5"
   ]
  },
  {
   "cell_type": "code",
   "execution_count": 17,
   "metadata": {},
   "outputs": [
    {
     "data": {
      "text/plain": [
       "0.4700557211144026"
      ]
     },
     "execution_count": 17,
     "metadata": {},
     "output_type": "execute_result"
    }
   ],
   "source": [
    "get_rmse(y_actual, y_predict)"
   ]
  },
  {
   "cell_type": "code",
   "execution_count": 18,
   "metadata": {},
   "outputs": [
    {
     "data": {
      "text/plain": [
       "0.38095238095238093"
      ]
     },
     "execution_count": 18,
     "metadata": {},
     "output_type": "execute_result"
    }
   ],
   "source": [
    "get_avg_err(y_actual, y_predict)"
   ]
  },
  {
   "cell_type": "code",
   "execution_count": 19,
   "metadata": {},
   "outputs": [
    {
     "name": "stdout",
     "output_type": "stream",
     "text": [
      "MSE Upper bound: 0.870550563296\n",
      "MSE of predictions: 0.220952380952\n",
      "As per the discussion in the paper, MSE is bounded by O((pn)**(-1/5))\n"
     ]
    }
   ],
   "source": [
    "check_mse(m1_csr, y_actual, y_predict)"
   ]
  },
  {
   "cell_type": "code",
   "execution_count": null,
   "metadata": {
    "collapsed": true
   },
   "outputs": [],
   "source": []
  },
  {
   "cell_type": "code",
   "execution_count": 20,
   "metadata": {},
   "outputs": [
    {
     "data": {
      "text/plain": [
       "datetime.time(18, 43, 4, 169284)"
      ]
     },
     "execution_count": 20,
     "metadata": {},
     "output_type": "execute_result"
    }
   ],
   "source": [
    "datetime.now().time()     # (hour, min, sec, microsec)"
   ]
  },
  {
   "cell_type": "code",
   "execution_count": null,
   "metadata": {
    "collapsed": true
   },
   "outputs": [],
   "source": []
  }
 ],
 "metadata": {
  "kernelspec": {
   "display_name": "Python 2",
   "language": "python",
   "name": "python2"
  },
  "language_info": {
   "codemirror_mode": {
    "name": "ipython",
    "version": 2
   },
   "file_extension": ".py",
   "mimetype": "text/x-python",
   "name": "python",
   "nbconvert_exporter": "python",
   "pygments_lexer": "ipython2",
   "version": "2.7.14"
  }
 },
 "nbformat": 4,
 "nbformat_minor": 2
}
